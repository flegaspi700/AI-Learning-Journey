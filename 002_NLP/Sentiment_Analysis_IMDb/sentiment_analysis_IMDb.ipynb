{
 "cells": [
  {
   "cell_type": "markdown",
   "id": "5af81235",
   "metadata": {},
   "source": [
    "# Title - Sentiment Analysis IMDB"
   ]
  },
  {
   "cell_type": "markdown",
   "id": "3a9c4b1e",
   "metadata": {},
   "source": [
    "### Core Machine Learning\n",
    "*   **`tensorflow as tf`**: This is the fundamental library for the entire project. TensorFlow provides the tools to build, train, and deploy machine learning models, especially neural networks.\n",
    "*   **`tensorflow.keras.layers`**: Keras is TensorFlow's user-friendly API for building neural networks. The `layers` module provides the building blocks for your model, such as `Embedding` (to convert words into numerical vectors), `Dense` (standard neural network layers), and `Dropout` (to prevent overfitting).\n",
    "*   **`tensorflow.keras.losses`**: This provides the loss functions, which are used to measure how inaccurate the model's predictions are. The goal of training is to minimize this value. The tutorial uses `BinaryCrossentropy` for a two-class problem (positive/negative).\n",
    "\n",
    "### Data Handling and Preparation\n",
    "*   **`numpy as np`**: A core library for numerical operations. TensorFlow is tightly integrated with NumPy, and it's often used to handle the numerical data (vectors and matrices) that the model processes.\n",
    "*   **`pandas as pd`**: While not used in the first cell of your notebook, Pandas is essential for reading, writing, and manipulating structured data, such as from a CSV file. You would typically use it to load your dataset into a structure called a DataFrame.\n",
    "*   **`os`**: This module helps interact with the operating system, primarily for handling file paths and directories. The tutorial uses it to manage the dataset files after they are downloaded.\n",
    "*   **`shutil`**: Provides high-level file operations. The tutorial uses it to remove the downloaded dataset directory to clean up the workspace.\n",
    "\n",
    "### Text Processing\n",
    "*   **`re`**: The regular expression module. It's crucial for cleaning text data. In the tutorial, it's used to remove HTML tags like `<br />` from the movie reviews.\n",
    "*   **`string`**: This module contains common string constants. The tutorial uses `string.punctuation` to easily access a list of all punctuation marks that should be stripped from the text.\n",
    "\n",
    "### Data Visualization\n",
    "*   **`matplotlib.pyplot as plt`**: The primary library for creating plots and graphs. It's used at the end of the tutorial to visualize the model's training and validation accuracy and loss over time. This helps you understand if the model is learning effectively or overfitting.\n",
    "*   **`seaborn as sns`**: Built on top of Matplotlib, Seaborn provides more advanced and aesthetically pleasing statistical plots. While not strictly required by the tutorial, it's often used for tasks like creating confusion matrices or visualizing data distributions."
   ]
  },
  {
   "cell_type": "code",
   "execution_count": null,
   "id": "1bd5e918",
   "metadata": {},
   "outputs": [],
   "source": [
    "import matplotlib.pyplot as plt\n",
    "import numpy as np\n",
    "import pandas as pd\n",
    "import seaborn as sns\n",
    "\n",
    "import os\n",
    "import re\n",
    "import shutil\n",
    "import string\n",
    "import tensorflow as tf\n",
    "\n",
    "from tensorflow.keras import layers\n",
    "from tensorflow.keras import losses\n",
    "\n",
    "print(tf.__version__)\n"
   ]
  },
  {
   "cell_type": "code",
   "execution_count": null,
   "id": "afdcba3b",
   "metadata": {},
   "outputs": [],
   "source": [
    "# Download and explore the IMDB dataset\n",
    "\n",
    "url = \"https://ai.stanford.edu/~amaas/data/sentiment/aclImdb_v1.tar.gz\"\n",
    "\n",
    "dataset = tf.keras.utils.get_file(\"aclImdb_v1\", url,\n",
    "                                    untar=True, cache_dir='.',\n",
    "                                    cache_subdir='')\n",
    "\n",
    "dataset_dir = os.path.join(os.path.dirname(dataset), 'aclImdb')"
   ]
  }
 ],
 "metadata": {
  "kernelspec": {
   "display_name": ".venv",
   "language": "python",
   "name": "python3"
  },
  "language_info": {
   "codemirror_mode": {
    "name": "ipython",
    "version": 3
   },
   "file_extension": ".py",
   "mimetype": "text/x-python",
   "name": "python",
   "nbconvert_exporter": "python",
   "pygments_lexer": "ipython3",
   "version": "3.13.6"
  }
 },
 "nbformat": 4,
 "nbformat_minor": 5
}
