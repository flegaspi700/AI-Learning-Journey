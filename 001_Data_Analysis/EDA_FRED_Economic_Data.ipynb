{
 "cells": [
  {
   "cell_type": "markdown",
   "id": "2214bdb4",
   "metadata": {},
   "source": [
    "TEst"
   ]
  },
  {
   "cell_type": "code",
   "execution_count": 1,
   "id": "185a7507",
   "metadata": {},
   "outputs": [
    {
     "name": "stdout",
     "output_type": "stream",
     "text": [
      "Note: you may need to restart the kernel to use updated packages.\n"
     ]
    },
    {
     "name": "stderr",
     "output_type": "stream",
     "text": [
      "The system cannot find the path specified.\n"
     ]
    },
    {
     "name": "stdout",
     "output_type": "stream",
     "text": [
      "Note: you may need to restart the kernel to use updated packages.\n"
     ]
    },
    {
     "name": "stderr",
     "output_type": "stream",
     "text": [
      "The system cannot find the path specified.\n"
     ]
    }
   ],
   "source": [
    "%pip install fredapi > /dev/null\n",
    "%pip install plotly > /dev/null"
   ]
  },
  {
   "cell_type": "code",
   "execution_count": null,
   "id": "942cf612",
   "metadata": {},
   "outputs": [],
   "source": [
    "import pandas as pd\n",
    "import numpy as np\n",
    "import matplotlib.pyplot as plt\n",
    "import plotly.express as px\n",
    "import os       \n",
    "from dotenv import load_dotenv\n",
    "\n",
    "\n",
    "\n",
    "plt.style.use('fivethirtyeight')\n",
    "pd.set_option('display.max_columns', None)\n",
    "color_pal = plt.rcParams['axes.prop_cycle'].by_key()['color']\n",
    "\n",
    "import fredapi as fa\n",
    "\n",
    "#load env variables\n",
    "load_dotenv()\n",
    "\n",
    "api_key=os.environ[\"fred_api_key\"]"
   ]
  },
  {
   "cell_type": "markdown",
   "id": "591baa47",
   "metadata": {},
   "source": [
    "#Create FRED Object"
   ]
  },
  {
   "cell_type": "code",
   "execution_count": null,
   "id": "68381077",
   "metadata": {},
   "outputs": [],
   "source": []
  }
 ],
 "metadata": {
  "kernelspec": {
   "display_name": ".venv",
   "language": "python",
   "name": "python3"
  },
  "language_info": {
   "codemirror_mode": {
    "name": "ipython",
    "version": 3
   },
   "file_extension": ".py",
   "mimetype": "text/x-python",
   "name": "python",
   "nbconvert_exporter": "python",
   "pygments_lexer": "ipython3",
   "version": "3.13.6"
  }
 },
 "nbformat": 4,
 "nbformat_minor": 5
}
