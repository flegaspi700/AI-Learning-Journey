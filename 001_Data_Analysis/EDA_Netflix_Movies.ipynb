{
 "cells": [
  {
   "cell_type": "markdown",
   "id": "a45781bb",
   "metadata": {},
   "source": [
    "# Exploratory Data Analysis of Netflix Movies\n",
    "\n",
    "This notebook provides a step-by-step exploratory data analysis (EDA) of a Netflix dataset. The main goal is to analyze movies released in the 1990s to understand their characteristics, such as duration and genre distribution."
   ]
  },
  {
   "cell_type": "markdown",
   "id": "e46acd95",
   "metadata": {},
   "source": [
    "## 1. Import Libraries"
   ]
  },
  {
   "cell_type": "code",
   "execution_count": 1,
   "id": "55a7377e",
   "metadata": {},
   "outputs": [],
   "source": [
    "import pandas as pd\n",
    "import matplotlib.pyplot as plt\n",
    "import seaborn as sns\n",
    "plt.style.use('ggplot')\n",
    "pd.set_option('display.max_columns', 200)"
   ]
  },
  {
   "cell_type": "markdown",
   "id": "0d820bad",
   "metadata": {},
   "source": [
    "## 2. Data Loading and Inspection"
   ]
  },
  {
   "cell_type": "code",
   "execution_count": 2,
   "id": "9a6138cd",
   "metadata": {},
   "outputs": [],
   "source": [
    "# Load the Dataset\n",
    "netflix_df = pd.read_csv(\"../001_Data_Analysis/Data/netflix_data.csv\")"
   ]
  },
  {
   "cell_type": "markdown",
   "id": "0e3de062",
   "metadata": {},
   "source": [
    "### Inspecting the Data\n",
    "Let's start by getting a feel for the dataset. We'll look at its shape and the first few rows."
   ]
  },
  {
   "cell_type": "code",
   "execution_count": 3,
   "id": "87467a84",
   "metadata": {},
   "outputs": [
    {
     "name": "stdout",
     "output_type": "stream",
     "text": [
      "(4812, 11)\n"
     ]
    }
   ],
   "source": [
    "print(netflix_df.shape)"
   ]
  },
  {
   "cell_type": "code",
   "execution_count": 4,
   "id": "205fd485",
   "metadata": {},
   "outputs": [
    {
     "data": {
      "text/html": [
       "<div>\n",
       "<style scoped>\n",
       "    .dataframe tbody tr th:only-of-type {\n",
       "        vertical-align: middle;\n",
       "    }\n",
       "\n",
       "    .dataframe tbody tr th {\n",
       "        vertical-align: top;\n",
       "    }\n",
       "\n",
       "    .dataframe thead th {\n",
       "        text-align: right;\n",
       "    }\n",
       "</style>\n",
       "<table border=\"1\" class=\"dataframe\">\n",
       "  <thead>\n",
       "    <tr style=\"text-align: right;\">\n",
       "      <th></th>\n",
       "      <th>show_id</th>\n",
       "      <th>type</th>\n",
       "      <th>title</th>\n",
       "      <th>director</th>\n",
       "      <th>cast</th>\n",
       "      <th>country</th>\n",
       "      <th>date_added</th>\n",
       "      <th>release_year</th>\n",
       "      <th>duration</th>\n",
       "      <th>description</th>\n",
       "      <th>genre</th>\n",
       "    </tr>\n",
       "  </thead>\n",
       "  <tbody>\n",
       "    <tr>\n",
       "      <th>0</th>\n",
       "      <td>s2</td>\n",
       "      <td>Movie</td>\n",
       "      <td>7:19</td>\n",
       "      <td>Jorge Michel Grau</td>\n",
       "      <td>Demián Bichir, Héctor Bonilla, Oscar Serrano, ...</td>\n",
       "      <td>Mexico</td>\n",
       "      <td>December 23, 2016</td>\n",
       "      <td>2016</td>\n",
       "      <td>93</td>\n",
       "      <td>After a devastating earthquake hits Mexico Cit...</td>\n",
       "      <td>Dramas</td>\n",
       "    </tr>\n",
       "    <tr>\n",
       "      <th>1</th>\n",
       "      <td>s3</td>\n",
       "      <td>Movie</td>\n",
       "      <td>23:59</td>\n",
       "      <td>Gilbert Chan</td>\n",
       "      <td>Tedd Chan, Stella Chung, Henley Hii, Lawrence ...</td>\n",
       "      <td>Singapore</td>\n",
       "      <td>December 20, 2018</td>\n",
       "      <td>2011</td>\n",
       "      <td>78</td>\n",
       "      <td>When an army recruit is found dead, his fellow...</td>\n",
       "      <td>Horror Movies</td>\n",
       "    </tr>\n",
       "    <tr>\n",
       "      <th>2</th>\n",
       "      <td>s4</td>\n",
       "      <td>Movie</td>\n",
       "      <td>9</td>\n",
       "      <td>Shane Acker</td>\n",
       "      <td>Elijah Wood, John C. Reilly, Jennifer Connelly...</td>\n",
       "      <td>United States</td>\n",
       "      <td>November 16, 2017</td>\n",
       "      <td>2009</td>\n",
       "      <td>80</td>\n",
       "      <td>In a postapocalyptic world, rag-doll robots hi...</td>\n",
       "      <td>Action</td>\n",
       "    </tr>\n",
       "    <tr>\n",
       "      <th>3</th>\n",
       "      <td>s5</td>\n",
       "      <td>Movie</td>\n",
       "      <td>21</td>\n",
       "      <td>Robert Luketic</td>\n",
       "      <td>Jim Sturgess, Kevin Spacey, Kate Bosworth, Aar...</td>\n",
       "      <td>United States</td>\n",
       "      <td>January 1, 2020</td>\n",
       "      <td>2008</td>\n",
       "      <td>123</td>\n",
       "      <td>A brilliant group of students become card-coun...</td>\n",
       "      <td>Dramas</td>\n",
       "    </tr>\n",
       "    <tr>\n",
       "      <th>4</th>\n",
       "      <td>s6</td>\n",
       "      <td>TV Show</td>\n",
       "      <td>46</td>\n",
       "      <td>Serdar Akar</td>\n",
       "      <td>Erdal Beşikçioğlu, Yasemin Allen, Melis Birkan...</td>\n",
       "      <td>Turkey</td>\n",
       "      <td>July 1, 2017</td>\n",
       "      <td>2016</td>\n",
       "      <td>1</td>\n",
       "      <td>A genetics professor experiments with a treatm...</td>\n",
       "      <td>International TV</td>\n",
       "    </tr>\n",
       "  </tbody>\n",
       "</table>\n",
       "</div>"
      ],
      "text/plain": [
       "  show_id     type  title           director  \\\n",
       "0      s2    Movie   7:19  Jorge Michel Grau   \n",
       "1      s3    Movie  23:59       Gilbert Chan   \n",
       "2      s4    Movie      9        Shane Acker   \n",
       "3      s5    Movie     21     Robert Luketic   \n",
       "4      s6  TV Show     46        Serdar Akar   \n",
       "\n",
       "                                                cast        country  \\\n",
       "0  Demián Bichir, Héctor Bonilla, Oscar Serrano, ...         Mexico   \n",
       "1  Tedd Chan, Stella Chung, Henley Hii, Lawrence ...      Singapore   \n",
       "2  Elijah Wood, John C. Reilly, Jennifer Connelly...  United States   \n",
       "3  Jim Sturgess, Kevin Spacey, Kate Bosworth, Aar...  United States   \n",
       "4  Erdal Beşikçioğlu, Yasemin Allen, Melis Birkan...         Turkey   \n",
       "\n",
       "          date_added  release_year  duration  \\\n",
       "0  December 23, 2016          2016        93   \n",
       "1  December 20, 2018          2011        78   \n",
       "2  November 16, 2017          2009        80   \n",
       "3    January 1, 2020          2008       123   \n",
       "4       July 1, 2017          2016         1   \n",
       "\n",
       "                                         description             genre  \n",
       "0  After a devastating earthquake hits Mexico Cit...            Dramas  \n",
       "1  When an army recruit is found dead, his fellow...     Horror Movies  \n",
       "2  In a postapocalyptic world, rag-doll robots hi...            Action  \n",
       "3  A brilliant group of students become card-coun...            Dramas  \n",
       "4  A genetics professor experiments with a treatm...  International TV  "
      ]
     },
     "execution_count": 4,
     "metadata": {},
     "output_type": "execute_result"
    }
   ],
   "source": [
    "netflix_df.head()"
   ]
  },
  {
   "cell_type": "markdown",
   "id": "7b1fe7c7",
   "metadata": {},
   "source": [
    "## 3. Focusing on 1990s Movies"
   ]
  },
  {
   "cell_type": "markdown",
   "id": "967400ba",
   "metadata": {},
   "source": [
    "### Subsetting the Data\n",
    "First, we'll filter the DataFrame to include only movies."
   ]
  },
  {
   "cell_type": "code",
   "execution_count": 5,
   "id": "7dada5e2",
   "metadata": {},
   "outputs": [],
   "source": [
    "netflix_subset = netflix_df[netflix_df[\"type\"] == \"Movie\"]"
   ]
  },
  {
   "cell_type": "markdown",
   "id": "0115e1df",
   "metadata": {},
   "source": [
    "Now, let's filter this subset to only include movies released in the 1990s."
   ]
  },
  {
   "cell_type": "code",
   "execution_count": 6,
   "id": "a984f763",
   "metadata": {},
   "outputs": [],
   "source": [
    "movies_1990s = netflix_subset[(netflix_subset[\"release_year\"] >= 1990) & (netflix_subset[\"release_year\"] < 2000)]"
   ]
  },
  {
   "cell_type": "markdown",
   "id": "101eb019",
   "metadata": {},
   "source": [
    "## 4. Exploratory Data Analysis & Visualization"
   ]
  },
  {
   "cell_type": "markdown",
   "id": "47d50a96",
   "metadata": {},
   "source": [
    "### Distribution of Movie Durations\n",
    "Let's visualize the distribution of movie durations from the 1990s to see how long they typically were."
   ]
  },
  {
   "cell_type": "code",
   "execution_count": 7,
   "id": "1972390f",
   "metadata": {},
   "outputs": [
    {
     "data": {
      "image/png": "[encoded data removed]",
      "text/plain": [
       "<Figure size 640x480 with 1 Axes>"
      ]
     },
     "metadata": {},
     "output_type": "display_data"
    }
   ],
   "source": [
    "plt.hist(movies_1990s[\"duration\"])\n",
    "plt.title('Distribution of Movie Durations in the 1990s')\n",
    "plt.xlabel('Duration (minutes)')\n",
    "plt.ylabel('Number of Movies')\n",
    "plt.show()"
   ]
  },
  {
   "cell_type": "markdown",
   "id": "67bf1199",
   "metadata": {},
   "source": [
    "From the histogram, it looks like a large number of movies in the 1990s had a duration of around 100 minutes."
   ]
  },
  {
   "cell_type": "code",
   "execution_count": 8,
   "id": "50872f78",
   "metadata": {},
   "outputs": [],
   "source": [
    "duration = 100"
   ]
  },
  {
   "cell_type": "markdown",
   "id": "7bac6122",
   "metadata": {},
   "source": [
    "### Analyzing Action Movies\n",
    "Now, let's narrow our focus to a specific genre. We'll filter for 'Action' movies and see how many of them were considered short (under 90 minutes)."
   ]
  },
  {
   "cell_type": "code",
   "execution_count": 9,
   "id": "e42bbdff",
   "metadata": {},
   "outputs": [
    {
     "name": "stdout",
     "output_type": "stream",
     "text": [
      "Number of short action movies in the 1990s: 7\n"
     ]
    }
   ],
   "source": [
    "action_movies_1990s = movies_1990s[movies_1990s[\"genre\"] == \"Action\"]\n",
    "short_movie_count = 0\n",
    "for label, row in action_movies_1990s.iterrows():\n",
    "    if row[\"duration\"] < 90:\n",
    "        short_movie_count += 1\n",
    "print(f\"Number of short action movies in the 1990s: {short_movie_count}\")"
   ]
  },
  {
   "cell_type": "markdown",
   "id": "5da5587f",
   "metadata": {},
   "source": [
    "## 5. Conclusion"
   ]
  },
  {
   "cell_type": "markdown",
   "id": "eca6e136",
   "metadata": {},
   "source": [
    "This analysis provided a glimpse into Netflix movies from the 1990s. Key findings include:\n",
    "\n",
    "- A significant number of movies from this decade had a runtime of approximately 100 minutes.\n",
    "- We identified a small number of action movies from the 90s that were shorter than 90 minutes.\n",
    "\n",
    "This analysis could be expanded to explore other decades, genres, or compare movie durations over time."
   ]
  }
 ],
 "metadata": {
  "kernelspec": {
   "display_name": ".venv",
   "language": "python",
   "name": "python3"
  },
  "language_info": {
   "codemirror_mode": {
    "name": "ipython",
    "version": 3
   },
   "file_extension": ".py",
   "mimetype": "text/x-python",
   "name": "python",
   "nbconvert_exporter": "python",
   "pygments_lexer": "ipython3",
   "version": "3.13.6"
  }
 },
 "nbformat": 4,
 "nbformat_minor": 5
}
